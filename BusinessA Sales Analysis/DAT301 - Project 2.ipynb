{
 "cells": [
  {
   "cell_type": "markdown",
   "id": "8e209982",
   "metadata": {},
   "source": [
    "# Project 2\n",
    "\n",
    "#### Kyle Tadokoro\n",
    "#### 2024-02-27"
   ]
  },
  {
   "cell_type": "markdown",
   "id": "86d53c8b",
   "metadata": {},
   "source": [
    "## Introduction to Dataset and Relevance\n",
    "\n",
    "This document will examine and interpret what conclusions can be made using the \"larger_sales_dataset.csv\" obtained from Hassane Skikri through kaggle.com.  For convenience sake, we will be referring to the business this dataset comes from as BusA Sales.  The set consists of 10000 observations of 10 variables.  Though the data in this set is fictional, it represents a realistic example of data that a business may collect during standard operation.  Being able to clean, sort, and make sense of such a dataset is a skill that would be beneficial for the vast majority of businesses to employ.  "
   ]
  },
  {
   "cell_type": "code",
   "execution_count": 112,
   "id": "83f408b4",
   "metadata": {},
   "outputs": [],
   "source": [
    "import numpy as np\n",
    "import pandas as pd\n",
    "import matplotlib.pyplot as plt"
   ]
  },
  {
   "cell_type": "markdown",
   "id": "96940b4a",
   "metadata": {},
   "source": [
    "### Import the File"
   ]
  },
  {
   "cell_type": "code",
   "execution_count": 113,
   "id": "ebb6f363",
   "metadata": {},
   "outputs": [],
   "source": [
    "df = pd.read_csv('larger_sales_dataset.csv')\n",
    "df_sort_date = df.sort_values(by = 'Order Date')"
   ]
  },
  {
   "cell_type": "markdown",
   "id": "11b5eb5d",
   "metadata": {},
   "source": [
    "### Summary of BusA Sales Data"
   ]
  },
  {
   "cell_type": "code",
   "execution_count": 114,
   "id": "5b881324",
   "metadata": {},
   "outputs": [
    {
     "data": {
      "text/html": [
       "<div>\n",
       "<style scoped>\n",
       "    .dataframe tbody tr th:only-of-type {\n",
       "        vertical-align: middle;\n",
       "    }\n",
       "\n",
       "    .dataframe tbody tr th {\n",
       "        vertical-align: top;\n",
       "    }\n",
       "\n",
       "    .dataframe thead th {\n",
       "        text-align: right;\n",
       "    }\n",
       "</style>\n",
       "<table border=\"1\" class=\"dataframe\">\n",
       "  <thead>\n",
       "    <tr style=\"text-align: right;\">\n",
       "      <th></th>\n",
       "      <th>Order ID</th>\n",
       "      <th>Product ID</th>\n",
       "      <th>Product Category</th>\n",
       "      <th>Quantity</th>\n",
       "      <th>Unit Price</th>\n",
       "      <th>Total Price</th>\n",
       "      <th>Order Date</th>\n",
       "      <th>Customer ID</th>\n",
       "      <th>Payment Type</th>\n",
       "      <th>Order Status</th>\n",
       "    </tr>\n",
       "  </thead>\n",
       "  <tbody>\n",
       "    <tr>\n",
       "      <th>count</th>\n",
       "      <td>10000</td>\n",
       "      <td>10000</td>\n",
       "      <td>10000</td>\n",
       "      <td>10000.000000</td>\n",
       "      <td>10000.000000</td>\n",
       "      <td>10000.000000</td>\n",
       "      <td>10000</td>\n",
       "      <td>10000</td>\n",
       "      <td>10000</td>\n",
       "      <td>10000</td>\n",
       "    </tr>\n",
       "    <tr>\n",
       "      <th>unique</th>\n",
       "      <td>10000</td>\n",
       "      <td>10000</td>\n",
       "      <td>6</td>\n",
       "      <td>NaN</td>\n",
       "      <td>NaN</td>\n",
       "      <td>NaN</td>\n",
       "      <td>365</td>\n",
       "      <td>10000</td>\n",
       "      <td>4</td>\n",
       "      <td>4</td>\n",
       "    </tr>\n",
       "    <tr>\n",
       "      <th>top</th>\n",
       "      <td>921fafe7-640c-42aa-9609-21269106a202</td>\n",
       "      <td>beb24319-053d-4096-b225-867214413960</td>\n",
       "      <td>Sports &amp; Outdoors</td>\n",
       "      <td>NaN</td>\n",
       "      <td>NaN</td>\n",
       "      <td>NaN</td>\n",
       "      <td>2023-12-16</td>\n",
       "      <td>93ad1fe6-1e11-4b55-9d89-c937cec041e5</td>\n",
       "      <td>PayPal</td>\n",
       "      <td>Pending</td>\n",
       "    </tr>\n",
       "    <tr>\n",
       "      <th>freq</th>\n",
       "      <td>1</td>\n",
       "      <td>1</td>\n",
       "      <td>1719</td>\n",
       "      <td>NaN</td>\n",
       "      <td>NaN</td>\n",
       "      <td>NaN</td>\n",
       "      <td>47</td>\n",
       "      <td>1</td>\n",
       "      <td>2573</td>\n",
       "      <td>2575</td>\n",
       "    </tr>\n",
       "    <tr>\n",
       "      <th>mean</th>\n",
       "      <td>NaN</td>\n",
       "      <td>NaN</td>\n",
       "      <td>NaN</td>\n",
       "      <td>3.009700</td>\n",
       "      <td>253.278078</td>\n",
       "      <td>762.724197</td>\n",
       "      <td>NaN</td>\n",
       "      <td>NaN</td>\n",
       "      <td>NaN</td>\n",
       "      <td>NaN</td>\n",
       "    </tr>\n",
       "    <tr>\n",
       "      <th>std</th>\n",
       "      <td>NaN</td>\n",
       "      <td>NaN</td>\n",
       "      <td>NaN</td>\n",
       "      <td>1.399286</td>\n",
       "      <td>142.523046</td>\n",
       "      <td>593.515659</td>\n",
       "      <td>NaN</td>\n",
       "      <td>NaN</td>\n",
       "      <td>NaN</td>\n",
       "      <td>NaN</td>\n",
       "    </tr>\n",
       "    <tr>\n",
       "      <th>min</th>\n",
       "      <td>NaN</td>\n",
       "      <td>NaN</td>\n",
       "      <td>NaN</td>\n",
       "      <td>1.000000</td>\n",
       "      <td>10.071462</td>\n",
       "      <td>10.092483</td>\n",
       "      <td>NaN</td>\n",
       "      <td>NaN</td>\n",
       "      <td>NaN</td>\n",
       "      <td>NaN</td>\n",
       "    </tr>\n",
       "    <tr>\n",
       "      <th>25%</th>\n",
       "      <td>NaN</td>\n",
       "      <td>NaN</td>\n",
       "      <td>NaN</td>\n",
       "      <td>2.000000</td>\n",
       "      <td>129.205590</td>\n",
       "      <td>284.388946</td>\n",
       "      <td>NaN</td>\n",
       "      <td>NaN</td>\n",
       "      <td>NaN</td>\n",
       "      <td>NaN</td>\n",
       "    </tr>\n",
       "    <tr>\n",
       "      <th>50%</th>\n",
       "      <td>NaN</td>\n",
       "      <td>NaN</td>\n",
       "      <td>NaN</td>\n",
       "      <td>3.000000</td>\n",
       "      <td>251.669090</td>\n",
       "      <td>602.823424</td>\n",
       "      <td>NaN</td>\n",
       "      <td>NaN</td>\n",
       "      <td>NaN</td>\n",
       "      <td>NaN</td>\n",
       "    </tr>\n",
       "    <tr>\n",
       "      <th>75%</th>\n",
       "      <td>NaN</td>\n",
       "      <td>NaN</td>\n",
       "      <td>NaN</td>\n",
       "      <td>4.000000</td>\n",
       "      <td>378.259451</td>\n",
       "      <td>1129.878504</td>\n",
       "      <td>NaN</td>\n",
       "      <td>NaN</td>\n",
       "      <td>NaN</td>\n",
       "      <td>NaN</td>\n",
       "    </tr>\n",
       "    <tr>\n",
       "      <th>max</th>\n",
       "      <td>NaN</td>\n",
       "      <td>NaN</td>\n",
       "      <td>NaN</td>\n",
       "      <td>5.000000</td>\n",
       "      <td>499.956975</td>\n",
       "      <td>2499.784873</td>\n",
       "      <td>NaN</td>\n",
       "      <td>NaN</td>\n",
       "      <td>NaN</td>\n",
       "      <td>NaN</td>\n",
       "    </tr>\n",
       "  </tbody>\n",
       "</table>\n",
       "</div>"
      ],
      "text/plain": [
       "                                    Order ID  \\\n",
       "count                                  10000   \n",
       "unique                                 10000   \n",
       "top     921fafe7-640c-42aa-9609-21269106a202   \n",
       "freq                                       1   \n",
       "mean                                     NaN   \n",
       "std                                      NaN   \n",
       "min                                      NaN   \n",
       "25%                                      NaN   \n",
       "50%                                      NaN   \n",
       "75%                                      NaN   \n",
       "max                                      NaN   \n",
       "\n",
       "                                  Product ID   Product Category      Quantity  \\\n",
       "count                                  10000              10000  10000.000000   \n",
       "unique                                 10000                  6           NaN   \n",
       "top     beb24319-053d-4096-b225-867214413960  Sports & Outdoors           NaN   \n",
       "freq                                       1               1719           NaN   \n",
       "mean                                     NaN                NaN      3.009700   \n",
       "std                                      NaN                NaN      1.399286   \n",
       "min                                      NaN                NaN      1.000000   \n",
       "25%                                      NaN                NaN      2.000000   \n",
       "50%                                      NaN                NaN      3.000000   \n",
       "75%                                      NaN                NaN      4.000000   \n",
       "max                                      NaN                NaN      5.000000   \n",
       "\n",
       "          Unit Price   Total Price  Order Date  \\\n",
       "count   10000.000000  10000.000000       10000   \n",
       "unique           NaN           NaN         365   \n",
       "top              NaN           NaN  2023-12-16   \n",
       "freq             NaN           NaN          47   \n",
       "mean      253.278078    762.724197         NaN   \n",
       "std       142.523046    593.515659         NaN   \n",
       "min        10.071462     10.092483         NaN   \n",
       "25%       129.205590    284.388946         NaN   \n",
       "50%       251.669090    602.823424         NaN   \n",
       "75%       378.259451   1129.878504         NaN   \n",
       "max       499.956975   2499.784873         NaN   \n",
       "\n",
       "                                 Customer ID Payment Type Order Status  \n",
       "count                                  10000        10000        10000  \n",
       "unique                                 10000            4            4  \n",
       "top     93ad1fe6-1e11-4b55-9d89-c937cec041e5       PayPal      Pending  \n",
       "freq                                       1         2573         2575  \n",
       "mean                                     NaN          NaN          NaN  \n",
       "std                                      NaN          NaN          NaN  \n",
       "min                                      NaN          NaN          NaN  \n",
       "25%                                      NaN          NaN          NaN  \n",
       "50%                                      NaN          NaN          NaN  \n",
       "75%                                      NaN          NaN          NaN  \n",
       "max                                      NaN          NaN          NaN  "
      ]
     },
     "execution_count": 114,
     "metadata": {},
     "output_type": "execute_result"
    }
   ],
   "source": [
    "df.describe(include = 'all')"
   ]
  },
  {
   "cell_type": "code",
   "execution_count": 115,
   "id": "062c34c1",
   "metadata": {
    "scrolled": true
   },
   "outputs": [
    {
     "name": "stdout",
     "output_type": "stream",
     "text": [
      "Number of Unique Customers: 10000\n"
     ]
    }
   ],
   "source": [
    "# Number of Unique Customers\n",
    "print(\"Number of Unique Customers: \" + str(df[\"Customer ID\"].nunique()))"
   ]
  },
  {
   "cell_type": "code",
   "execution_count": 116,
   "id": "f45f828f",
   "metadata": {},
   "outputs": [
    {
     "name": "stdout",
     "output_type": "stream",
     "text": [
      "The range of dates: 2023-01-01 to 2023-12-31\n"
     ]
    }
   ],
   "source": [
    "# Range of Dates\n",
    "print(\"The range of dates: \" + min(df[\"Order Date\"]) + \" to \"  + max(df[\"Order Date\"]))"
   ]
  },
  {
   "cell_type": "markdown",
   "id": "833a51af",
   "metadata": {},
   "source": [
    "## Questions to answer about this set\n",
    "\n",
    "- In which category is the most money being made?\n",
    "- What time of year are sales peaking for each category?\n",
    "- What is the average total for orders?\n",
    "- What percentage of sales are refunded or cancelled?\n"
   ]
  },
  {
   "cell_type": "markdown",
   "id": "f72731d7",
   "metadata": {},
   "source": [
    "### Where is the money being made?\n",
    "\n",
    "BusA Sales sells items from 6 categories\n",
    "- Sports & Outdoors\n",
    "- Home & Kitchen\n",
    "- Beauty & Health\n",
    "- Books\n",
    "- Electronics\n",
    "- Clothing"
   ]
  },
  {
   "cell_type": "markdown",
   "id": "e6b0c597",
   "metadata": {},
   "source": [
    "### Sales by Category\n",
    "\n",
    "In the list below, we can see the distribution of sales made by each of the categories.  The highest performing category was Sports & Outdoors bringing in over 1.31 million in sales.  This is in comparison to the lowest performing category of Beauty & Health with a perfomance of 1.2 million.  "
   ]
  },
  {
   "cell_type": "code",
   "execution_count": 117,
   "id": "9c203be3",
   "metadata": {},
   "outputs": [
    {
     "data": {
      "text/plain": [
       "{0: {'Sports & Outdoors': '$1,313,735.43'},\n",
       " 1: {'Clothing': '$1,303,679.19'},\n",
       " 2: {'Electronics': '$1,290,283.08'},\n",
       " 3: {'Home & Kitchen': '$1,268,471.95'},\n",
       " 4: {'Books': '$1,249,307.25'},\n",
       " 5: {'Beauty & Health': '$1,201,765.08'}}"
      ]
     },
     "execution_count": 117,
     "metadata": {},
     "output_type": "execute_result"
    }
   ],
   "source": [
    "cats = [\"Sports & Outdoors\", \"Clothing\", \"Electronics\", \"Home & Kitchen\", \"Books\", \"Beauty & Health\"]\n",
    "totalpDict = {}\n",
    "counter = 0\n",
    "for i in cats:\n",
    "    tempLine = {i: \"${:,.2f}\".format(round(sum(df[\"Total Price\"][df[\"Product Category\"] == i]), 2))}\n",
    "    totalpDict[counter] = tempLine\n",
    "    counter = counter + 1\n",
    "totalpDict"
   ]
  },
  {
   "cell_type": "markdown",
   "id": "2cb827e5",
   "metadata": {},
   "source": [
    "### Number of Transactions by Category\n",
    "\n",
    "Next, the number of transactions tells us the amount of customers that bought from each category.  This is in contrast to the amount they are spending.  We can see by plotting a histogram that the 6 categories are remarkably similar to one another.  "
   ]
  },
  {
   "cell_type": "code",
   "execution_count": 118,
   "id": "84b3ccc7",
   "metadata": {
    "scrolled": true
   },
   "outputs": [
    {
     "data": {
      "text/plain": [
       "Text(0.5, 1.0, 'Histogram of Transactions')"
      ]
     },
     "execution_count": 118,
     "metadata": {},
     "output_type": "execute_result"
    },
    {
     "data": {
      "image/png": "[encoded data removed]",
      "text/plain": [
       "<Figure size 432x288 with 1 Axes>"
      ]
     },
     "metadata": {
      "needs_background": "light"
     },
     "output_type": "display_data"
    }
   ],
   "source": [
    "fig = plt.figure()\n",
    "ax1 = fig.add_subplot(1,1,1)\n",
    "ax1.hist(df_sort_date['Product Category'], \n",
    "         bins = 6, \n",
    "         color = 'b',\n",
    "         alpha = .4,\n",
    "         edgecolor = 'black')\n",
    "plt.xlabel('Product Category')\n",
    "plt.ylabel('Number of Transactions')\n",
    "plt.title('Histogram of Transactions')"
   ]
  },
  {
   "cell_type": "markdown",
   "id": "108f6173",
   "metadata": {},
   "source": [
    "### Biggest and Smallest Orders\n",
    "\n",
    "e are also able to see that the top 10 Biggest orders of the 2023 year averaged at Total Price of $2491.64. It is also worth noting that in this top ten, we see the category of Books 3 times, Beauty & Health and Electronics 2 times, and Home & Kitchen, Sports & Outdoors, and Clothing only once.  "
   ]
  },
  {
   "cell_type": "code",
   "execution_count": 119,
   "id": "bdf12fcb",
   "metadata": {},
   "outputs": [
    {
     "name": "stdout",
     "output_type": "stream",
     "text": [
      "10 Smallest Orders: \n",
      " \n",
      "      Total Price   Product Category  Order Date\n",
      "3276    10.092483           Clothing  2023-01-20\n",
      "3159    10.598639     Home & Kitchen  2023-02-15\n",
      "1921    10.802425     Home & Kitchen  2023-09-19\n",
      "8529    11.058527  Sports & Outdoors  2023-06-10\n",
      "6011    11.112996  Sports & Outdoors  2023-11-08\n",
      "5262    11.271074    Beauty & Health  2023-02-01\n",
      "3914    12.111023  Sports & Outdoors  2023-01-17\n",
      "699     12.156129  Sports & Outdoors  2023-01-23\n",
      "4324    12.186533     Home & Kitchen  2023-11-03\n",
      "8114    13.001030     Home & Kitchen  2023-02-10\n",
      "\n",
      "\n",
      "10 Largest Orders: \n",
      "\n",
      "      Total Price   Product Category  Order Date\n",
      "9731  2485.285955              Books  2023-07-22\n",
      "5711  2485.948678           Clothing  2023-12-08\n",
      "5152  2487.235676        Electronics  2023-05-30\n",
      "1781  2488.128718              Books  2023-09-08\n",
      "1280  2490.066090  Sports & Outdoors  2023-01-27\n",
      "6786  2492.414897    Beauty & Health  2023-10-23\n",
      "154   2494.449821        Electronics  2023-09-14\n",
      "4094  2494.532854              Books  2023-09-29\n",
      "9612  2498.581615    Beauty & Health  2023-01-16\n",
      "3240  2499.784873     Home & Kitchen  2023-08-12\n"
     ]
    }
   ],
   "source": [
    "df_sort_price = pd.DataFrame(df, columns=['Total Price', 'Product Category', 'Order Date']).sort_values(by = 'Total Price')\n",
    "print(\"10 Smallest Orders: \\n \")\n",
    "print(df_sort_price.head(10))\n",
    "print(\"\\n\\n10 Largest Orders: \\n\")\n",
    "print(df_sort_price.tail(10))"
   ]
  },
  {
   "cell_type": "markdown",
   "id": "04a23497",
   "metadata": {},
   "source": [
    "### What Time of the Year are Sales Best?\n",
    "\n",
    "When breaking down the distribution of sales throughout the year, it immediately becomes clear that the data in this file is fictional.  With a normal set of data with variables such as ours, it is typical to expect patterns and trends to appear at different times of the year that correlate with seasons, holidays, and other factors.  However, when plotting the total price of each observation against the order date, we can see an extraordinarily consistent layout develop through the 10,000 cases. "
   ]
  },
  {
   "cell_type": "code",
   "execution_count": 120,
   "id": "58092357",
   "metadata": {},
   "outputs": [
    {
     "data": {
      "text/plain": [
       "<matplotlib.collections.PathCollection at 0x7fbf20337f70>"
      ]
     },
     "execution_count": 120,
     "metadata": {},
     "output_type": "execute_result"
    },
    {
     "data": {
      "image/png": "[encoded data removed]",
      "text/plain": [
       "<Figure size 432x288 with 1 Axes>"
      ]
     },
     "metadata": {
      "needs_background": "light"
     },
     "output_type": "display_data"
    }
   ],
   "source": [
    "plt.scatter(df_sort_date['Order Date'], \n",
    "            df_sort_date['Total Price'])"
   ]
  },
  {
   "cell_type": "markdown",
   "id": "cef69b55",
   "metadata": {},
   "source": [
    "### Order Totals Averaged by Month"
   ]
  },
  {
   "cell_type": "markdown",
   "id": "52aada6f",
   "metadata": {},
   "source": [
    "In order to summarize the plot above in a way that is easier understood, I took the average total for orders for each month and plotted them.  Doing so, we are able to see that there is a slight deviation in order totals with the smallest amount made per order during the middle of the year before recovering back into the later months.  When looking at the graph, it is important that we keep the y-axis in mind.  Though the difference in average order totals seems dramatic, looking at the same plot with the bottom limit of our y-axis dropped to 0, we can see that the difference between the months is quite insignificant.  "
   ]
  },
  {
   "cell_type": "code",
   "execution_count": 121,
   "id": "3f6a6d95",
   "metadata": {},
   "outputs": [],
   "source": [
    "#Create Vector of Sorted Order Dates as int(Month)\n",
    "\n",
    "monthLi = []\n",
    "priceLi = []\n",
    "\n",
    "for i in df_sort_date['Order Date']:\n",
    "    temp = str(i)[5:7]\n",
    "    monthLi.append(temp)\n",
    "for i in df_sort_date['Total Price']:\n",
    "    priceLi.append(i)\n",
    "    \n",
    "df_money = pd.DataFrame({'Month': monthLi, 'Price': priceLi})\n",
    "\n",
    "\n",
    "#set up scatter plot 2 lists\n",
    "month = ['01', '02', '03', '04', '05', '06', '07', '08', '09', '10', '11', '12']\n",
    "monAvgs = []\n",
    "count = 0\n",
    "\n",
    "for j in month:\n",
    "    tempSum = 0\n",
    "    length = 0\n",
    "    for i in df_money['Month']:\n",
    "        if (i == j):\n",
    "            tempSum = tempSum + df_money['Price'][count]\n",
    "            length = length + 1\n",
    "            count = count + 1\n",
    "    monAvgs.append(tempSum / length)"
   ]
  },
  {
   "cell_type": "code",
   "execution_count": 122,
   "id": "45dad5ae",
   "metadata": {},
   "outputs": [
    {
     "data": {
      "text/plain": [
       "Text(0.5, 1.0, 'Average Order Total by Month')"
      ]
     },
     "execution_count": 122,
     "metadata": {},
     "output_type": "execute_result"
    },
    {
     "data": {
      "image/png": "[encoded data removed]",
      "text/plain": [
       "<Figure size 432x288 with 1 Axes>"
      ]
     },
     "metadata": {
      "needs_background": "light"
     },
     "output_type": "display_data"
    }
   ],
   "source": [
    "fig = plt.figure()\n",
    "ax1 = fig.add_subplot(1,1,1)\n",
    "ax1.scatter(range(1,13), monAvgs)\n",
    "plt.xlabel('Month')\n",
    "plt.ylabel('Average of Order Totals')\n",
    "plt.title('Average Order Total by Month')"
   ]
  },
  {
   "cell_type": "code",
   "execution_count": 123,
   "id": "fe48a47f",
   "metadata": {},
   "outputs": [
    {
     "data": {
      "text/plain": [
       "Text(0.5, 1.0, 'Average Order Total by Month')"
      ]
     },
     "execution_count": 123,
     "metadata": {},
     "output_type": "execute_result"
    },
    {
     "data": {
      "image/png": "[encoded data removed]",
      "text/plain": [
       "<Figure size 432x288 with 1 Axes>"
      ]
     },
     "metadata": {
      "needs_background": "light"
     },
     "output_type": "display_data"
    }
   ],
   "source": [
    "fig = plt.figure()\n",
    "ax1 = fig.add_subplot(1,1,1)\n",
    "ax1.scatter(range(1,13), monAvgs)\n",
    "plt.ylim(0,800)\n",
    "plt.xlabel('Month')\n",
    "plt.ylabel('Average of Order Totals')\n",
    "plt.title('Average Order Total by Month')"
   ]
  },
  {
   "cell_type": "markdown",
   "id": "fb09b772",
   "metadata": {},
   "source": [
    "### Order Status Distribution\n",
    "\n",
    "An important subject to talk about is the ratio of orders that are either refunded or cancelled.  With a combined 49% between the two categories, the amount of orders that are netting a negative return are hard to imagine.  This combined with the fact that with a pending order rate of nearly 25% as well, one could expect nearly 2/3 of orders to not be successful.  "
   ]
  },
  {
   "cell_type": "code",
   "execution_count": 124,
   "id": "4cd8bb53",
   "metadata": {},
   "outputs": [
    {
     "data": {
      "text/plain": [
       "Text(0.5, 1.0, 'Histogram of Order Status')"
      ]
     },
     "execution_count": 124,
     "metadata": {},
     "output_type": "execute_result"
    },
    {
     "data": {
      "image/png": "[encoded data removed]",
      "text/plain": [
       "<Figure size 432x288 with 1 Axes>"
      ]
     },
     "metadata": {
      "needs_background": "light"
     },
     "output_type": "display_data"
    }
   ],
   "source": [
    "fig = plt.figure()\n",
    "ax1 = fig.add_subplot(1,1,1)\n",
    "ax1.hist(df_sort_date['Order Status'],  \n",
    "         bins = 4,\n",
    "         color = 'b',\n",
    "         alpha = .4,\n",
    "         edgecolor = 'black')\n",
    "plt.xlabel('Order Status')\n",
    "plt.ylabel('Number of Transactions')\n",
    "plt.title('Histogram of Order Status')"
   ]
  },
  {
   "cell_type": "markdown",
   "id": "d6010728",
   "metadata": {},
   "source": [
    "### Form of Payment Distribution\n",
    "\n",
    "Finally, below we have the distribution of payment types that customers used during the 2023 fiscal year.  Similar to the Order Status plot, we observe a similar amount of transactions between all 4 payment types with the most frequent being Paypal.  "
   ]
  },
  {
   "cell_type": "code",
   "execution_count": 125,
   "id": "89ebd155",
   "metadata": {},
   "outputs": [
    {
     "data": {
      "text/plain": [
       "Text(0.5, 1.0, 'Histogram of Payment Type')"
      ]
     },
     "execution_count": 125,
     "metadata": {},
     "output_type": "execute_result"
    },
    {
     "data": {
      "image/png": "[encoded data removed]",
      "text/plain": [
       "<Figure size 432x288 with 1 Axes>"
      ]
     },
     "metadata": {
      "needs_background": "light"
     },
     "output_type": "display_data"
    }
   ],
   "source": [
    "fig = plt.figure()\n",
    "ax1 = fig.add_subplot(1,1,1)\n",
    "ax1.hist(df_sort_date['Payment Type'],  \n",
    "         color = 'b',\n",
    "         bins = 4,\n",
    "         alpha = .4,\n",
    "         edgecolor = 'black')\n",
    "plt.xlabel('Payment Type')\n",
    "plt.ylabel('Number of Transactions')\n",
    "plt.title('Histogram of Payment Type')"
   ]
  },
  {
   "cell_type": "markdown",
   "id": "a12d6dbc",
   "metadata": {},
   "source": [
    "## Conclusion\n",
    "\n",
    "In conclusion, the \"larger_sales_dataset\" by Hassane Skikri produced some interesting results upon data cleaning and wrangling.  We were able to determine that during the fiscal year of 2023, BusA Sales had a total of 10,000 customers.  These customers ordered the most from the categories of Sports & Outdoors and Clothing and the least from Beauty & Health.  They had the highest order totals in the months of October and November, used Paypal the most, and had an almost 50% rate of either returning or cancelling an order.  \n",
    "\n",
    "\n",
    "While the fields that we observed were realistic, the data seen in this file is highly unlikely to come about during an actual business' operations.  In reality, it is likely that you would expect a higher variance in customer preferences (both categorical and chronological), distribution of sales, and a (hopefully) lower margin of refunded/cancelled orders.  In addition to what we were given in the set, another field that could prove useful towards BusA's endeavors could be a customer satisfaction survey of some sort.  \n"
   ]
  }
 ],
 "metadata": {
  "kernelspec": {
   "display_name": "Python 3",
   "language": "python",
   "name": "python3"
  },
  "language_info": {
   "codemirror_mode": {
    "name": "ipython",
    "version": 3
   },
   "file_extension": ".py",
   "mimetype": "text/x-python",
   "name": "python",
   "nbconvert_exporter": "python",
   "pygments_lexer": "ipython3",
   "version": "3.8.10"
  }
 },
 "nbformat": 4,
 "nbformat_minor": 5
}
